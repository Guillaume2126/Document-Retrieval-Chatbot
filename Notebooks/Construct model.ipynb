{
 "cells": [
  {
   "cell_type": "code",
   "execution_count": 3,
   "metadata": {},
   "outputs": [
    {
     "name": "stdout",
     "output_type": "stream",
     "text": [
      "Requirement already satisfied: pycryptodome in /home/guillaumelewagon/.pyenv/versions/3.10.6/envs/lewagon/lib/python3.10/site-packages (3.19.0)\n",
      "\n",
      "\u001b[1m[\u001b[0m\u001b[34;49mnotice\u001b[0m\u001b[1;39;49m]\u001b[0m\u001b[39;49m A new release of pip is available: \u001b[0m\u001b[31;49m23.2.1\u001b[0m\u001b[39;49m -> \u001b[0m\u001b[32;49m23.3.1\u001b[0m\n",
      "\u001b[1m[\u001b[0m\u001b[34;49mnotice\u001b[0m\u001b[1;39;49m]\u001b[0m\u001b[39;49m To update, run: \u001b[0m\u001b[32;49mpip install --upgrade pip\u001b[0m\n",
      "Note: you may need to restart the kernel to use updated packages.\n"
     ]
    }
   ],
   "source": [
    "pip install pycryptodome\n"
   ]
  },
  {
   "cell_type": "code",
   "execution_count": 4,
   "metadata": {},
   "outputs": [
    {
     "name": "stdout",
     "output_type": "stream",
     "text": [
      "Requirement already satisfied: PyPDF2 in /home/guillaumelewagon/.pyenv/versions/3.10.6/envs/lewagon/lib/python3.10/site-packages (3.0.1)\n",
      "\n",
      "\u001b[1m[\u001b[0m\u001b[34;49mnotice\u001b[0m\u001b[1;39;49m]\u001b[0m\u001b[39;49m A new release of pip is available: \u001b[0m\u001b[31;49m23.2.1\u001b[0m\u001b[39;49m -> \u001b[0m\u001b[32;49m23.3.1\u001b[0m\n",
      "\u001b[1m[\u001b[0m\u001b[34;49mnotice\u001b[0m\u001b[1;39;49m]\u001b[0m\u001b[39;49m To update, run: \u001b[0m\u001b[32;49mpip install --upgrade pip\u001b[0m\n",
      "Note: you may need to restart the kernel to use updated packages.\n"
     ]
    }
   ],
   "source": [
    "pip install --upgrade PyPDF2\n"
   ]
  },
  {
   "cell_type": "code",
   "execution_count": 5,
   "metadata": {},
   "outputs": [
    {
     "name": "stdout",
     "output_type": "stream",
     "text": [
      "Requirement already satisfied: langchain in /home/guillaumelewagon/.pyenv/versions/3.10.6/envs/lewagon/lib/python3.10/site-packages (0.0.337)\n",
      "Requirement already satisfied: PyYAML>=5.3 in /home/guillaumelewagon/.pyenv/versions/3.10.6/envs/lewagon/lib/python3.10/site-packages (from langchain) (5.4.1)\n",
      "Requirement already satisfied: SQLAlchemy<3,>=1.4 in /home/guillaumelewagon/.pyenv/versions/3.10.6/envs/lewagon/lib/python3.10/site-packages (from langchain) (2.0.23)\n",
      "Requirement already satisfied: aiohttp<4.0.0,>=3.8.3 in /home/guillaumelewagon/.pyenv/versions/3.10.6/envs/lewagon/lib/python3.10/site-packages (from langchain) (3.9.0)\n",
      "Requirement already satisfied: anyio<4.0 in /home/guillaumelewagon/.pyenv/versions/3.10.6/envs/lewagon/lib/python3.10/site-packages (from langchain) (3.6.2)\n",
      "Requirement already satisfied: async-timeout<5.0.0,>=4.0.0 in /home/guillaumelewagon/.pyenv/versions/3.10.6/envs/lewagon/lib/python3.10/site-packages (from langchain) (4.0.3)\n",
      "Requirement already satisfied: dataclasses-json<0.7,>=0.5.7 in /home/guillaumelewagon/.pyenv/versions/3.10.6/envs/lewagon/lib/python3.10/site-packages (from langchain) (0.6.2)\n",
      "Requirement already satisfied: jsonpatch<2.0,>=1.33 in /home/guillaumelewagon/.pyenv/versions/3.10.6/envs/lewagon/lib/python3.10/site-packages (from langchain) (1.33)\n",
      "Requirement already satisfied: langsmith<0.1.0,>=0.0.63 in /home/guillaumelewagon/.pyenv/versions/3.10.6/envs/lewagon/lib/python3.10/site-packages (from langchain) (0.0.65)\n",
      "Requirement already satisfied: numpy<2,>=1 in /home/guillaumelewagon/.pyenv/versions/3.10.6/envs/lewagon/lib/python3.10/site-packages (from langchain) (1.23.4)\n",
      "Requirement already satisfied: pydantic<3,>=1 in /home/guillaumelewagon/.pyenv/versions/3.10.6/envs/lewagon/lib/python3.10/site-packages (from langchain) (1.9.2)\n",
      "Requirement already satisfied: requests<3,>=2 in /home/guillaumelewagon/.pyenv/versions/3.10.6/envs/lewagon/lib/python3.10/site-packages (from langchain) (2.28.1)\n",
      "Requirement already satisfied: tenacity<9.0.0,>=8.1.0 in /home/guillaumelewagon/.pyenv/versions/3.10.6/envs/lewagon/lib/python3.10/site-packages (from langchain) (8.1.0)\n",
      "Requirement already satisfied: attrs>=17.3.0 in /home/guillaumelewagon/.pyenv/versions/3.10.6/envs/lewagon/lib/python3.10/site-packages (from aiohttp<4.0.0,>=3.8.3->langchain) (22.1.0)\n",
      "Requirement already satisfied: multidict<7.0,>=4.5 in /home/guillaumelewagon/.pyenv/versions/3.10.6/envs/lewagon/lib/python3.10/site-packages (from aiohttp<4.0.0,>=3.8.3->langchain) (6.0.4)\n",
      "Requirement already satisfied: yarl<2.0,>=1.0 in /home/guillaumelewagon/.pyenv/versions/3.10.6/envs/lewagon/lib/python3.10/site-packages (from aiohttp<4.0.0,>=3.8.3->langchain) (1.9.2)\n",
      "Requirement already satisfied: frozenlist>=1.1.1 in /home/guillaumelewagon/.pyenv/versions/3.10.6/envs/lewagon/lib/python3.10/site-packages (from aiohttp<4.0.0,>=3.8.3->langchain) (1.4.0)\n",
      "Requirement already satisfied: aiosignal>=1.1.2 in /home/guillaumelewagon/.pyenv/versions/3.10.6/envs/lewagon/lib/python3.10/site-packages (from aiohttp<4.0.0,>=3.8.3->langchain) (1.3.1)\n",
      "Requirement already satisfied: idna>=2.8 in /home/guillaumelewagon/.pyenv/versions/3.10.6/envs/lewagon/lib/python3.10/site-packages (from anyio<4.0->langchain) (3.4)\n",
      "Requirement already satisfied: sniffio>=1.1 in /home/guillaumelewagon/.pyenv/versions/3.10.6/envs/lewagon/lib/python3.10/site-packages (from anyio<4.0->langchain) (1.3.0)\n",
      "Requirement already satisfied: marshmallow<4.0.0,>=3.18.0 in /home/guillaumelewagon/.pyenv/versions/3.10.6/envs/lewagon/lib/python3.10/site-packages (from dataclasses-json<0.7,>=0.5.7->langchain) (3.20.1)\n",
      "Requirement already satisfied: typing-inspect<1,>=0.4.0 in /home/guillaumelewagon/.pyenv/versions/3.10.6/envs/lewagon/lib/python3.10/site-packages (from dataclasses-json<0.7,>=0.5.7->langchain) (0.9.0)\n",
      "Requirement already satisfied: jsonpointer>=1.9 in /home/guillaumelewagon/.pyenv/versions/3.10.6/envs/lewagon/lib/python3.10/site-packages (from jsonpatch<2.0,>=1.33->langchain) (2.4)\n",
      "Requirement already satisfied: typing-extensions>=3.7.4.3 in /home/guillaumelewagon/.pyenv/versions/3.10.6/envs/lewagon/lib/python3.10/site-packages (from pydantic<3,>=1->langchain) (4.4.0)\n",
      "Requirement already satisfied: charset-normalizer<3,>=2 in /home/guillaumelewagon/.pyenv/versions/3.10.6/envs/lewagon/lib/python3.10/site-packages (from requests<3,>=2->langchain) (2.1.1)\n",
      "Requirement already satisfied: urllib3<1.27,>=1.21.1 in /home/guillaumelewagon/.pyenv/versions/3.10.6/envs/lewagon/lib/python3.10/site-packages (from requests<3,>=2->langchain) (1.26.12)\n",
      "Requirement already satisfied: certifi>=2017.4.17 in /home/guillaumelewagon/.pyenv/versions/3.10.6/envs/lewagon/lib/python3.10/site-packages (from requests<3,>=2->langchain) (2022.9.24)\n",
      "Requirement already satisfied: greenlet!=0.4.17 in /home/guillaumelewagon/.pyenv/versions/3.10.6/envs/lewagon/lib/python3.10/site-packages (from SQLAlchemy<3,>=1.4->langchain) (3.0.1)\n",
      "Requirement already satisfied: packaging>=17.0 in /home/guillaumelewagon/.pyenv/versions/3.10.6/envs/lewagon/lib/python3.10/site-packages (from marshmallow<4.0.0,>=3.18.0->dataclasses-json<0.7,>=0.5.7->langchain) (21.3)\n",
      "Requirement already satisfied: mypy-extensions>=0.3.0 in /home/guillaumelewagon/.pyenv/versions/3.10.6/envs/lewagon/lib/python3.10/site-packages (from typing-inspect<1,>=0.4.0->dataclasses-json<0.7,>=0.5.7->langchain) (1.0.0)\n",
      "Requirement already satisfied: pyparsing!=3.0.5,>=2.0.2 in /home/guillaumelewagon/.pyenv/versions/3.10.6/envs/lewagon/lib/python3.10/site-packages (from packaging>=17.0->marshmallow<4.0.0,>=3.18.0->dataclasses-json<0.7,>=0.5.7->langchain) (3.0.9)\n",
      "\n",
      "\u001b[1m[\u001b[0m\u001b[34;49mnotice\u001b[0m\u001b[1;39;49m]\u001b[0m\u001b[39;49m A new release of pip is available: \u001b[0m\u001b[31;49m23.2.1\u001b[0m\u001b[39;49m -> \u001b[0m\u001b[32;49m23.3.1\u001b[0m\n",
      "\u001b[1m[\u001b[0m\u001b[34;49mnotice\u001b[0m\u001b[1;39;49m]\u001b[0m\u001b[39;49m To update, run: \u001b[0m\u001b[32;49mpip install --upgrade pip\u001b[0m\n",
      "Note: you may need to restart the kernel to use updated packages.\n"
     ]
    }
   ],
   "source": [
    "pip install langchain\n"
   ]
  },
  {
   "cell_type": "code",
   "execution_count": 1,
   "metadata": {},
   "outputs": [],
   "source": [
    "from langchain.prompts.example_selector import SemanticSimilarityExampleSelector\n",
    "from langchain.vectorstores import Chroma\n",
    "from langchain.embeddings import OpenAIEmbeddings\n",
    "from langchain.prompts import FewShotPromptTemplate, PromptTemplate\n",
    "import sys\n",
    "sys.path.append('/home/guillaumelewagon/code/Guillaume2126/Document-Retrieval-Chatbot')\n",
    "from Application.data_cleaning import process_pdfs_and_build_dictionary\n"
   ]
  },
  {
   "cell_type": "code",
   "execution_count": 2,
   "metadata": {},
   "outputs": [
    {
     "name": "stdout",
     "output_type": "stream",
     "text": [
      "0\n",
      "1\n",
      "2\n",
      "3\n",
      "4\n",
      "5\n",
      "6\n",
      "7\n",
      "8\n",
      "9\n",
      "10\n",
      "11\n",
      "12\n",
      "13\n",
      "14\n",
      "15\n",
      "16\n",
      "17\n",
      "18\n",
      "19\n",
      "20\n",
      "21\n",
      "22\n",
      "23\n",
      "24\n",
      "25\n",
      "26\n",
      "27\n",
      "28\n",
      "29\n",
      "30\n",
      "31\n",
      "32\n",
      "33\n",
      "34\n"
     ]
    },
    {
     "name": "stderr",
     "output_type": "stream",
     "text": [
      "/home/guillaumelewagon/.pyenv/versions/3.10.6/envs/lewagon/lib/python3.10/site-packages/PyPDF2/_cmap.py:142: PdfReadWarning: Advanced encoding /90ms-RKSJ-H not implemented yet\n",
      "  warnings.warn(\n"
     ]
    },
    {
     "name": "stdout",
     "output_type": "stream",
     "text": [
      "35\n",
      "36\n",
      "37\n",
      "38\n",
      "39\n",
      "40\n",
      "41\n",
      "42\n",
      "43\n",
      "44\n",
      "45\n",
      "46\n",
      "47\n",
      "48\n",
      "49\n",
      "50\n",
      "51\n",
      "52\n",
      "53\n",
      "54\n",
      "55\n",
      "56\n",
      "57\n",
      "58\n",
      "59\n",
      "60\n",
      "61\n",
      "62\n",
      "63\n",
      "64\n",
      "65\n",
      "66\n",
      "67\n",
      "68\n",
      "69\n",
      "70\n",
      "71\n",
      "72\n",
      "73\n",
      "74\n",
      "75\n",
      "76\n",
      "77\n",
      "78\n",
      "79\n",
      "80\n",
      "81\n",
      "82\n",
      "83\n",
      "84\n",
      "85\n",
      "86\n",
      "87\n"
     ]
    },
    {
     "name": "stderr",
     "output_type": "stream",
     "text": [
      "Illegal character in Name Object (b'/ABCDEE+\\xb7s\\xb2\\xd3\\xa9\\xfa\\xc5\\xe9')\n"
     ]
    },
    {
     "name": "stdout",
     "output_type": "stream",
     "text": [
      "88\n",
      "89\n",
      "90\n",
      "91\n",
      "92\n",
      "93\n",
      "94\n",
      "95\n",
      "96\n",
      "97\n",
      "98\n",
      "99\n",
      "100\n",
      "101\n",
      "102\n",
      "103\n",
      "104\n",
      "105\n",
      "106\n",
      "107\n",
      "108\n",
      "109\n",
      "110\n",
      "111\n",
      "112\n",
      "113\n",
      "114\n",
      "115\n",
      "116\n",
      "117\n",
      "118\n",
      "119\n",
      "120\n",
      "121\n",
      "122\n",
      "123\n",
      "124\n",
      "125\n",
      "126\n",
      "127\n",
      "128\n",
      "129\n",
      "130\n",
      "131\n",
      "132\n",
      "133\n",
      "134\n",
      "135\n",
      "136\n",
      "137\n",
      "138\n",
      "139\n",
      "140\n",
      "141\n",
      "142\n",
      "143\n",
      "144\n",
      "145\n",
      "146\n",
      "147\n",
      "148\n",
      "149\n",
      "150\n",
      "151\n",
      "152\n",
      "153\n",
      "154\n",
      "155\n",
      "156\n",
      "157\n"
     ]
    },
    {
     "ename": "IndexError",
     "evalue": "list index out of range",
     "output_type": "error",
     "traceback": [
      "\u001b[0;31m---------------------------------------------------------------------------\u001b[0m",
      "\u001b[0;31mIndexError\u001b[0m                                Traceback (most recent call last)",
      "\u001b[1;32m/home/guillaumelewagon/code/Guillaume2126/Document-Retrieval-Chatbot/Notebooks/Construct model.ipynb Cell 5\u001b[0m line \u001b[0;36m2\n\u001b[1;32m      <a href='vscode-notebook-cell://wsl%2Bubuntu/home/guillaumelewagon/code/Guillaume2126/Document-Retrieval-Chatbot/Notebooks/Construct%20model.ipynb#W2sdnNjb2RlLXJlbW90ZQ%3D%3D?line=0'>1</a>\u001b[0m pdf_directory \u001b[39m=\u001b[39m\u001b[39m\"\u001b[39m\u001b[39m/home/guillaumelewagon/code/Guillaume2126/Document-Retrieval-Chatbot/Data/Data/PDFs\u001b[39m\u001b[39m\"\u001b[39m\n\u001b[0;32m----> <a href='vscode-notebook-cell://wsl%2Bubuntu/home/guillaumelewagon/code/Guillaume2126/Document-Retrieval-Chatbot/Notebooks/Construct%20model.ipynb#W2sdnNjb2RlLXJlbW90ZQ%3D%3D?line=1'>2</a>\u001b[0m document_texts \u001b[39m=\u001b[39m process_pdfs_and_build_dictionary(pdf_directory)\n",
      "File \u001b[0;32m~/code/Guillaume2126/Document-Retrieval-Chatbot/Application/data_cleaning.py:55\u001b[0m, in \u001b[0;36mprocess_pdfs_and_build_dictionary\u001b[0;34m(directory_path)\u001b[0m\n\u001b[1;32m     53\u001b[0m \u001b[39mif\u001b[39;00m filename\u001b[39m.\u001b[39mendswith(\u001b[39m\"\u001b[39m\u001b[39m.pdf\u001b[39m\u001b[39m\"\u001b[39m):\n\u001b[1;32m     54\u001b[0m     pdf_path \u001b[39m=\u001b[39m os\u001b[39m.\u001b[39mpath\u001b[39m.\u001b[39mjoin(directory_path, filename)\n\u001b[0;32m---> 55\u001b[0m     pdf_text \u001b[39m=\u001b[39m extract_text_from_pdf(pdf_path)\n\u001b[1;32m     56\u001b[0m     cleaned_text \u001b[39m=\u001b[39m cleaning(pdf_text)\n\u001b[1;32m     58\u001b[0m     \u001b[39m# Add the filename and cleaned text in a dictionnary\u001b[39;00m\n",
      "File \u001b[0;32m~/code/Guillaume2126/Document-Retrieval-Chatbot/Application/data_cleaning.py:43\u001b[0m, in \u001b[0;36mextract_text_from_pdf\u001b[0;34m(pdf_path)\u001b[0m\n\u001b[1;32m     41\u001b[0m \u001b[39mfor\u001b[39;00m page_number \u001b[39min\u001b[39;00m \u001b[39mrange\u001b[39m(num_pages):\n\u001b[1;32m     42\u001b[0m     \u001b[39mif\u001b[39;00m page_number \u001b[39m<\u001b[39m num_pages:\n\u001b[0;32m---> 43\u001b[0m         text \u001b[39m+\u001b[39m\u001b[39m=\u001b[39m pdf_reader\u001b[39m.\u001b[39;49mpages[page_number]\u001b[39m.\u001b[39;49mextract_text()\n\u001b[1;32m     45\u001b[0m \u001b[39mreturn\u001b[39;00m text\n",
      "File \u001b[0;32m~/.pyenv/versions/3.10.6/envs/lewagon/lib/python3.10/site-packages/PyPDF2/_page.py:1851\u001b[0m, in \u001b[0;36mPageObject.extract_text\u001b[0;34m(self, Tj_sep, TJ_sep, orientations, space_width, visitor_operand_before, visitor_operand_after, visitor_text, *args)\u001b[0m\n\u001b[1;32m   1848\u001b[0m \u001b[39mif\u001b[39;00m \u001b[39misinstance\u001b[39m(orientations, \u001b[39mint\u001b[39m):\n\u001b[1;32m   1849\u001b[0m     orientations \u001b[39m=\u001b[39m (orientations,)\n\u001b[0;32m-> 1851\u001b[0m \u001b[39mreturn\u001b[39;00m \u001b[39mself\u001b[39;49m\u001b[39m.\u001b[39;49m_extract_text(\n\u001b[1;32m   1852\u001b[0m     \u001b[39mself\u001b[39;49m,\n\u001b[1;32m   1853\u001b[0m     \u001b[39mself\u001b[39;49m\u001b[39m.\u001b[39;49mpdf,\n\u001b[1;32m   1854\u001b[0m     orientations,\n\u001b[1;32m   1855\u001b[0m     space_width,\n\u001b[1;32m   1856\u001b[0m     PG\u001b[39m.\u001b[39;49mCONTENTS,\n\u001b[1;32m   1857\u001b[0m     visitor_operand_before,\n\u001b[1;32m   1858\u001b[0m     visitor_operand_after,\n\u001b[1;32m   1859\u001b[0m     visitor_text,\n\u001b[1;32m   1860\u001b[0m )\n",
      "File \u001b[0;32m~/.pyenv/versions/3.10.6/envs/lewagon/lib/python3.10/site-packages/PyPDF2/_page.py:1342\u001b[0m, in \u001b[0;36mPageObject._extract_text\u001b[0;34m(self, obj, pdf, orientations, space_width, content_key, visitor_operand_before, visitor_operand_after, visitor_text)\u001b[0m\n\u001b[1;32m   1340\u001b[0m \u001b[39mif\u001b[39;00m \u001b[39m\"\u001b[39m\u001b[39m/Font\u001b[39m\u001b[39m\"\u001b[39m \u001b[39min\u001b[39;00m resources_dict:\n\u001b[1;32m   1341\u001b[0m     \u001b[39mfor\u001b[39;00m f \u001b[39min\u001b[39;00m cast(DictionaryObject, resources_dict[\u001b[39m\"\u001b[39m\u001b[39m/Font\u001b[39m\u001b[39m\"\u001b[39m]):\n\u001b[0;32m-> 1342\u001b[0m         cmaps[f] \u001b[39m=\u001b[39m build_char_map(f, space_width, obj)\n\u001b[1;32m   1343\u001b[0m cmap: Tuple[\n\u001b[1;32m   1344\u001b[0m     Union[\u001b[39mstr\u001b[39m, Dict[\u001b[39mint\u001b[39m, \u001b[39mstr\u001b[39m]], Dict[\u001b[39mstr\u001b[39m, \u001b[39mstr\u001b[39m], \u001b[39mstr\u001b[39m, Optional[DictionaryObject]\n\u001b[1;32m   1345\u001b[0m ] \u001b[39m=\u001b[39m (\n\u001b[0;32m   (...)\u001b[0m\n\u001b[1;32m   1349\u001b[0m     \u001b[39mNone\u001b[39;00m,\n\u001b[1;32m   1350\u001b[0m )  \u001b[39m# (encoding,CMAP,font resource name,dictionary-object of font)\u001b[39;00m\n\u001b[1;32m   1351\u001b[0m \u001b[39mtry\u001b[39;00m:\n",
      "File \u001b[0;32m~/.pyenv/versions/3.10.6/envs/lewagon/lib/python3.10/site-packages/PyPDF2/_cmap.py:28\u001b[0m, in \u001b[0;36mbuild_char_map\u001b[0;34m(font_name, space_width, obj)\u001b[0m\n\u001b[1;32m     26\u001b[0m space_code \u001b[39m=\u001b[39m \u001b[39m32\u001b[39m\n\u001b[1;32m     27\u001b[0m encoding, space_code \u001b[39m=\u001b[39m parse_encoding(ft, space_code)\n\u001b[0;32m---> 28\u001b[0m map_dict, space_code, int_entry \u001b[39m=\u001b[39m parse_to_unicode(ft, space_code)\n\u001b[1;32m     30\u001b[0m \u001b[39m# encoding can be either a string for decode (on 1,2 or a variable number of bytes) of a char table (for 1 byte only for me)\u001b[39;00m\n\u001b[1;32m     31\u001b[0m \u001b[39m# if empty string, it means it is than encoding field is not present and we have to select the good encoding from cmap input data\u001b[39;00m\n\u001b[1;32m     32\u001b[0m \u001b[39mif\u001b[39;00m encoding \u001b[39m==\u001b[39m \u001b[39m\"\u001b[39m\u001b[39m\"\u001b[39m:\n",
      "File \u001b[0;32m~/.pyenv/versions/3.10.6/envs/lewagon/lib/python3.10/site-packages/PyPDF2/_cmap.py:196\u001b[0m, in \u001b[0;36mparse_to_unicode\u001b[0;34m(ft, space_code)\u001b[0m\n\u001b[1;32m    194\u001b[0m cm \u001b[39m=\u001b[39m prepare_cm(ft)\n\u001b[1;32m    195\u001b[0m \u001b[39mfor\u001b[39;00m l \u001b[39min\u001b[39;00m cm\u001b[39m.\u001b[39msplit(\u001b[39mb\u001b[39m\u001b[39m\"\u001b[39m\u001b[39m\\n\u001b[39;00m\u001b[39m\"\u001b[39m):\n\u001b[0;32m--> 196\u001b[0m     process_rg, process_char, multiline_rg \u001b[39m=\u001b[39m process_cm_line(\n\u001b[1;32m    197\u001b[0m         l\u001b[39m.\u001b[39;49mstrip(\u001b[39mb\u001b[39;49m\u001b[39m\"\u001b[39;49m\u001b[39m \u001b[39;49m\u001b[39m\"\u001b[39;49m), process_rg, process_char, multiline_rg, map_dict, int_entry\n\u001b[1;32m    198\u001b[0m     )\n\u001b[1;32m    200\u001b[0m \u001b[39mfor\u001b[39;00m a, value \u001b[39min\u001b[39;00m map_dict\u001b[39m.\u001b[39mitems():\n\u001b[1;32m    201\u001b[0m     \u001b[39mif\u001b[39;00m value \u001b[39m==\u001b[39m \u001b[39m\"\u001b[39m\u001b[39m \u001b[39m\u001b[39m\"\u001b[39m:\n",
      "File \u001b[0;32m~/.pyenv/versions/3.10.6/envs/lewagon/lib/python3.10/site-packages/PyPDF2/_cmap.py:264\u001b[0m, in \u001b[0;36mprocess_cm_line\u001b[0;34m(l, process_rg, process_char, multiline_rg, map_dict, int_entry)\u001b[0m\n\u001b[1;32m    262\u001b[0m     process_char \u001b[39m=\u001b[39m \u001b[39mFalse\u001b[39;00m\n\u001b[1;32m    263\u001b[0m \u001b[39melif\u001b[39;00m process_rg:\n\u001b[0;32m--> 264\u001b[0m     multiline_rg \u001b[39m=\u001b[39m parse_bfrange(l, map_dict, int_entry, multiline_rg)\n\u001b[1;32m    265\u001b[0m \u001b[39melif\u001b[39;00m process_char:\n\u001b[1;32m    266\u001b[0m     parse_bfchar(l, map_dict, int_entry)\n",
      "File \u001b[0;32m~/.pyenv/versions/3.10.6/envs/lewagon/lib/python3.10/site-packages/PyPDF2/_cmap.py:278\u001b[0m, in \u001b[0;36mparse_bfrange\u001b[0;34m(l, map_dict, int_entry, multiline_rg)\u001b[0m\n\u001b[1;32m    276\u001b[0m lst \u001b[39m=\u001b[39m [x \u001b[39mfor\u001b[39;00m x \u001b[39min\u001b[39;00m l\u001b[39m.\u001b[39msplit(\u001b[39mb\u001b[39m\u001b[39m\"\u001b[39m\u001b[39m \u001b[39m\u001b[39m\"\u001b[39m) \u001b[39mif\u001b[39;00m x]\n\u001b[1;32m    277\u001b[0m closure_found \u001b[39m=\u001b[39m \u001b[39mFalse\u001b[39;00m\n\u001b[0;32m--> 278\u001b[0m nbi \u001b[39m=\u001b[39m \u001b[39mmax\u001b[39m(\u001b[39mlen\u001b[39m(lst[\u001b[39m0\u001b[39m]), \u001b[39mlen\u001b[39m(lst[\u001b[39m1\u001b[39;49m]))\n\u001b[1;32m    279\u001b[0m map_dict[\u001b[39m-\u001b[39m\u001b[39m1\u001b[39m] \u001b[39m=\u001b[39m ceil(nbi \u001b[39m/\u001b[39m \u001b[39m2\u001b[39m)\n\u001b[1;32m    280\u001b[0m fmt \u001b[39m=\u001b[39m \u001b[39mb\u001b[39m\u001b[39m\"\u001b[39m\u001b[39m%%\u001b[39;00m\u001b[39m0\u001b[39m\u001b[39m%d\u001b[39;00m\u001b[39mX\u001b[39m\u001b[39m\"\u001b[39m \u001b[39m%\u001b[39m (map_dict[\u001b[39m-\u001b[39m\u001b[39m1\u001b[39m] \u001b[39m*\u001b[39m \u001b[39m2\u001b[39m)\n",
      "\u001b[0;31mIndexError\u001b[0m: list index out of range"
     ]
    }
   ],
   "source": [
    "pdf_directory =\"/home/guillaumelewagon/code/Guillaume2126/Document-Retrieval-Chatbot/Data/Data/PDFs\"\n",
    "document_texts = process_pdfs_and_build_dictionary(pdf_directory)\n"
   ]
  },
  {
   "cell_type": "code",
   "execution_count": null,
   "metadata": {},
   "outputs": [],
   "source": []
  },
  {
   "cell_type": "code",
   "execution_count": null,
   "metadata": {},
   "outputs": [],
   "source": []
  },
  {
   "cell_type": "code",
   "execution_count": null,
   "metadata": {},
   "outputs": [],
   "source": []
  },
  {
   "cell_type": "code",
   "execution_count": null,
   "metadata": {},
   "outputs": [],
   "source": []
  },
  {
   "cell_type": "code",
   "execution_count": null,
   "metadata": {},
   "outputs": [],
   "source": []
  }
 ],
 "metadata": {
  "kernelspec": {
   "display_name": "lewagon",
   "language": "python",
   "name": "python3"
  },
  "language_info": {
   "codemirror_mode": {
    "name": "ipython",
    "version": 3
   },
   "file_extension": ".py",
   "mimetype": "text/x-python",
   "name": "python",
   "nbconvert_exporter": "python",
   "pygments_lexer": "ipython3",
   "version": "3.10.6"
  }
 },
 "nbformat": 4,
 "nbformat_minor": 2
}
