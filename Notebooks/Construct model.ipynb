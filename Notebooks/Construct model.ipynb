{
 "cells": [
  {
   "cell_type": "code",
   "execution_count": 3,
   "metadata": {},
   "outputs": [
    {
     "name": "stdout",
     "output_type": "stream",
     "text": [
      "Requirement already satisfied: pycryptodome in /home/guillaumelewagon/.pyenv/versions/3.10.6/envs/lewagon/lib/python3.10/site-packages (3.19.0)\n",
      "\n",
      "\u001b[1m[\u001b[0m\u001b[34;49mnotice\u001b[0m\u001b[1;39;49m]\u001b[0m\u001b[39;49m A new release of pip is available: \u001b[0m\u001b[31;49m23.2.1\u001b[0m\u001b[39;49m -> \u001b[0m\u001b[32;49m23.3.1\u001b[0m\n",
      "\u001b[1m[\u001b[0m\u001b[34;49mnotice\u001b[0m\u001b[1;39;49m]\u001b[0m\u001b[39;49m To update, run: \u001b[0m\u001b[32;49mpip install --upgrade pip\u001b[0m\n",
      "Note: you may need to restart the kernel to use updated packages.\n"
     ]
    }
   ],
   "source": [
    "pip install pycryptodome\n"
   ]
  },
  {
   "cell_type": "code",
   "execution_count": 4,
   "metadata": {},
   "outputs": [
    {
     "name": "stdout",
     "output_type": "stream",
     "text": [
      "Requirement already satisfied: PyPDF2 in /home/guillaumelewagon/.pyenv/versions/3.10.6/envs/lewagon/lib/python3.10/site-packages (3.0.1)\n",
      "\n",
      "\u001b[1m[\u001b[0m\u001b[34;49mnotice\u001b[0m\u001b[1;39;49m]\u001b[0m\u001b[39;49m A new release of pip is available: \u001b[0m\u001b[31;49m23.2.1\u001b[0m\u001b[39;49m -> \u001b[0m\u001b[32;49m23.3.1\u001b[0m\n",
      "\u001b[1m[\u001b[0m\u001b[34;49mnotice\u001b[0m\u001b[1;39;49m]\u001b[0m\u001b[39;49m To update, run: \u001b[0m\u001b[32;49mpip install --upgrade pip\u001b[0m\n",
      "Note: you may need to restart the kernel to use updated packages.\n"
     ]
    }
   ],
   "source": [
    "pip install --upgrade PyPDF2\n"
   ]
  },
  {
   "cell_type": "code",
   "execution_count": 2,
   "metadata": {},
   "outputs": [
    {
     "name": "stdout",
     "output_type": "stream",
     "text": [
      "Requirement already satisfied: langchain in /home/guillaumelewagon/.pyenv/versions/3.10.6/envs/lewagon/lib/python3.10/site-packages (0.0.338)\n",
      "Requirement already satisfied: PyYAML>=5.3 in /home/guillaumelewagon/.pyenv/versions/3.10.6/envs/lewagon/lib/python3.10/site-packages (from langchain) (5.4.1)\n",
      "Requirement already satisfied: SQLAlchemy<3,>=1.4 in /home/guillaumelewagon/.pyenv/versions/3.10.6/envs/lewagon/lib/python3.10/site-packages (from langchain) (2.0.23)\n",
      "Requirement already satisfied: aiohttp<4.0.0,>=3.8.3 in /home/guillaumelewagon/.pyenv/versions/3.10.6/envs/lewagon/lib/python3.10/site-packages (from langchain) (3.9.0)\n",
      "Requirement already satisfied: anyio<4.0 in /home/guillaumelewagon/.pyenv/versions/3.10.6/envs/lewagon/lib/python3.10/site-packages (from langchain) (3.6.2)\n",
      "Requirement already satisfied: async-timeout<5.0.0,>=4.0.0 in /home/guillaumelewagon/.pyenv/versions/3.10.6/envs/lewagon/lib/python3.10/site-packages (from langchain) (4.0.3)\n",
      "Requirement already satisfied: dataclasses-json<0.7,>=0.5.7 in /home/guillaumelewagon/.pyenv/versions/3.10.6/envs/lewagon/lib/python3.10/site-packages (from langchain) (0.6.2)\n",
      "Requirement already satisfied: jsonpatch<2.0,>=1.33 in /home/guillaumelewagon/.pyenv/versions/3.10.6/envs/lewagon/lib/python3.10/site-packages (from langchain) (1.33)\n",
      "Requirement already satisfied: langsmith<0.1.0,>=0.0.63 in /home/guillaumelewagon/.pyenv/versions/3.10.6/envs/lewagon/lib/python3.10/site-packages (from langchain) (0.0.65)\n",
      "Requirement already satisfied: numpy<2,>=1 in /home/guillaumelewagon/.pyenv/versions/3.10.6/envs/lewagon/lib/python3.10/site-packages (from langchain) (1.23.4)\n",
      "Requirement already satisfied: pydantic<3,>=1 in /home/guillaumelewagon/.pyenv/versions/3.10.6/envs/lewagon/lib/python3.10/site-packages (from langchain) (1.9.2)\n",
      "Requirement already satisfied: requests<3,>=2 in /home/guillaumelewagon/.pyenv/versions/3.10.6/envs/lewagon/lib/python3.10/site-packages (from langchain) (2.28.1)\n",
      "Requirement already satisfied: tenacity<9.0.0,>=8.1.0 in /home/guillaumelewagon/.pyenv/versions/3.10.6/envs/lewagon/lib/python3.10/site-packages (from langchain) (8.1.0)\n",
      "Requirement already satisfied: attrs>=17.3.0 in /home/guillaumelewagon/.pyenv/versions/3.10.6/envs/lewagon/lib/python3.10/site-packages (from aiohttp<4.0.0,>=3.8.3->langchain) (22.1.0)\n",
      "Requirement already satisfied: multidict<7.0,>=4.5 in /home/guillaumelewagon/.pyenv/versions/3.10.6/envs/lewagon/lib/python3.10/site-packages (from aiohttp<4.0.0,>=3.8.3->langchain) (6.0.4)\n",
      "Requirement already satisfied: yarl<2.0,>=1.0 in /home/guillaumelewagon/.pyenv/versions/3.10.6/envs/lewagon/lib/python3.10/site-packages (from aiohttp<4.0.0,>=3.8.3->langchain) (1.9.2)\n",
      "Requirement already satisfied: frozenlist>=1.1.1 in /home/guillaumelewagon/.pyenv/versions/3.10.6/envs/lewagon/lib/python3.10/site-packages (from aiohttp<4.0.0,>=3.8.3->langchain) (1.4.0)\n",
      "Requirement already satisfied: aiosignal>=1.1.2 in /home/guillaumelewagon/.pyenv/versions/3.10.6/envs/lewagon/lib/python3.10/site-packages (from aiohttp<4.0.0,>=3.8.3->langchain) (1.3.1)\n",
      "Requirement already satisfied: idna>=2.8 in /home/guillaumelewagon/.pyenv/versions/3.10.6/envs/lewagon/lib/python3.10/site-packages (from anyio<4.0->langchain) (3.4)\n",
      "Requirement already satisfied: sniffio>=1.1 in /home/guillaumelewagon/.pyenv/versions/3.10.6/envs/lewagon/lib/python3.10/site-packages (from anyio<4.0->langchain) (1.3.0)\n",
      "Requirement already satisfied: marshmallow<4.0.0,>=3.18.0 in /home/guillaumelewagon/.pyenv/versions/3.10.6/envs/lewagon/lib/python3.10/site-packages (from dataclasses-json<0.7,>=0.5.7->langchain) (3.20.1)\n",
      "Requirement already satisfied: typing-inspect<1,>=0.4.0 in /home/guillaumelewagon/.pyenv/versions/3.10.6/envs/lewagon/lib/python3.10/site-packages (from dataclasses-json<0.7,>=0.5.7->langchain) (0.9.0)\n",
      "Requirement already satisfied: jsonpointer>=1.9 in /home/guillaumelewagon/.pyenv/versions/3.10.6/envs/lewagon/lib/python3.10/site-packages (from jsonpatch<2.0,>=1.33->langchain) (2.4)\n",
      "Requirement already satisfied: typing-extensions>=3.7.4.3 in /home/guillaumelewagon/.pyenv/versions/3.10.6/envs/lewagon/lib/python3.10/site-packages (from pydantic<3,>=1->langchain) (4.4.0)\n",
      "Requirement already satisfied: charset-normalizer<3,>=2 in /home/guillaumelewagon/.pyenv/versions/3.10.6/envs/lewagon/lib/python3.10/site-packages (from requests<3,>=2->langchain) (2.1.1)\n",
      "Requirement already satisfied: urllib3<1.27,>=1.21.1 in /home/guillaumelewagon/.pyenv/versions/3.10.6/envs/lewagon/lib/python3.10/site-packages (from requests<3,>=2->langchain) (1.26.12)\n",
      "Requirement already satisfied: certifi>=2017.4.17 in /home/guillaumelewagon/.pyenv/versions/3.10.6/envs/lewagon/lib/python3.10/site-packages (from requests<3,>=2->langchain) (2022.9.24)\n",
      "Requirement already satisfied: greenlet!=0.4.17 in /home/guillaumelewagon/.pyenv/versions/3.10.6/envs/lewagon/lib/python3.10/site-packages (from SQLAlchemy<3,>=1.4->langchain) (3.0.1)\n",
      "Requirement already satisfied: packaging>=17.0 in /home/guillaumelewagon/.pyenv/versions/3.10.6/envs/lewagon/lib/python3.10/site-packages (from marshmallow<4.0.0,>=3.18.0->dataclasses-json<0.7,>=0.5.7->langchain) (21.3)\n",
      "Requirement already satisfied: mypy-extensions>=0.3.0 in /home/guillaumelewagon/.pyenv/versions/3.10.6/envs/lewagon/lib/python3.10/site-packages (from typing-inspect<1,>=0.4.0->dataclasses-json<0.7,>=0.5.7->langchain) (1.0.0)\n",
      "Requirement already satisfied: pyparsing!=3.0.5,>=2.0.2 in /home/guillaumelewagon/.pyenv/versions/3.10.6/envs/lewagon/lib/python3.10/site-packages (from packaging>=17.0->marshmallow<4.0.0,>=3.18.0->dataclasses-json<0.7,>=0.5.7->langchain) (3.0.9)\n",
      "\n",
      "\u001b[1m[\u001b[0m\u001b[34;49mnotice\u001b[0m\u001b[1;39;49m]\u001b[0m\u001b[39;49m A new release of pip is available: \u001b[0m\u001b[31;49m23.2.1\u001b[0m\u001b[39;49m -> \u001b[0m\u001b[32;49m23.3.1\u001b[0m\n",
      "\u001b[1m[\u001b[0m\u001b[34;49mnotice\u001b[0m\u001b[1;39;49m]\u001b[0m\u001b[39;49m To update, run: \u001b[0m\u001b[32;49mpip install --upgrade pip\u001b[0m\n",
      "Note: you may need to restart the kernel to use updated packages.\n"
     ]
    }
   ],
   "source": [
    "pip install langchain\n"
   ]
  },
  {
   "cell_type": "code",
   "execution_count": 3,
   "metadata": {},
   "outputs": [
    {
     "name": "stdout",
     "output_type": "stream",
     "text": [
      "Collecting pypdfium2\n",
      "  Obtaining dependency information for pypdfium2 from https://files.pythonhosted.org/packages/64/a1/8e9f4c5ace3bc19cd6d9d0dedbfae0bc01e701e861e4de4e1a7f8bdf0533/pypdfium2-4.24.0-py3-none-manylinux_2_17_x86_64.whl.metadata\n",
      "  Downloading pypdfium2-4.24.0-py3-none-manylinux_2_17_x86_64.whl.metadata (45 kB)\n",
      "\u001b[2K     \u001b[90m━━━━━━━━━━━━━━━━━━━━━━━━━━━━━━━━━━━━━━━━\u001b[0m \u001b[32m45.6/45.6 kB\u001b[0m \u001b[31m1.6 MB/s\u001b[0m eta \u001b[36m0:00:00\u001b[0m\n",
      "\u001b[?25hDownloading pypdfium2-4.24.0-py3-none-manylinux_2_17_x86_64.whl (3.0 MB)\n",
      "\u001b[2K   \u001b[90m━━━━━━━━━━━━━━━━━━━━━━━━━━━━━━━━━━━━━━━━\u001b[0m \u001b[32m3.0/3.0 MB\u001b[0m \u001b[31m29.8 MB/s\u001b[0m eta \u001b[36m0:00:00\u001b[0ma \u001b[36m0:00:01\u001b[0m\n",
      "\u001b[?25hInstalling collected packages: pypdfium2\n",
      "Successfully installed pypdfium2-4.24.0\n",
      "\n",
      "\u001b[1m[\u001b[0m\u001b[34;49mnotice\u001b[0m\u001b[1;39;49m]\u001b[0m\u001b[39;49m A new release of pip is available: \u001b[0m\u001b[31;49m23.2.1\u001b[0m\u001b[39;49m -> \u001b[0m\u001b[32;49m23.3.1\u001b[0m\n",
      "\u001b[1m[\u001b[0m\u001b[34;49mnotice\u001b[0m\u001b[1;39;49m]\u001b[0m\u001b[39;49m To update, run: \u001b[0m\u001b[32;49mpip install --upgrade pip\u001b[0m\n",
      "Note: you may need to restart the kernel to use updated packages.\n"
     ]
    }
   ],
   "source": [
    "pip install pypdfium2\n"
   ]
  },
  {
   "cell_type": "code",
   "execution_count": 2,
   "metadata": {},
   "outputs": [
    {
     "name": "stdout",
     "output_type": "stream",
     "text": [
      "Collecting pypdf\n",
      "  Obtaining dependency information for pypdf from https://files.pythonhosted.org/packages/40/b7/166082d3b1c9d6d0b5a27184b59fc761bce81cbc0bb26b4247992cbd2117/pypdf-3.17.1-py3-none-any.whl.metadata\n",
      "  Downloading pypdf-3.17.1-py3-none-any.whl.metadata (7.5 kB)\n",
      "Downloading pypdf-3.17.1-py3-none-any.whl (277 kB)\n",
      "\u001b[2K   \u001b[90m━━━━━━━━━━━━━━━━━━━━━━━━━━━━━━━━━━━━━━━━\u001b[0m \u001b[32m277.6/277.6 kB\u001b[0m \u001b[31m5.6 MB/s\u001b[0m eta \u001b[36m0:00:00\u001b[0ma \u001b[36m0:00:01\u001b[0m\n",
      "\u001b[?25hInstalling collected packages: pypdf\n",
      "Successfully installed pypdf-3.17.1\n",
      "\n",
      "\u001b[1m[\u001b[0m\u001b[34;49mnotice\u001b[0m\u001b[1;39;49m]\u001b[0m\u001b[39;49m A new release of pip is available: \u001b[0m\u001b[31;49m23.2.1\u001b[0m\u001b[39;49m -> \u001b[0m\u001b[32;49m23.3.1\u001b[0m\n",
      "\u001b[1m[\u001b[0m\u001b[34;49mnotice\u001b[0m\u001b[1;39;49m]\u001b[0m\u001b[39;49m To update, run: \u001b[0m\u001b[32;49mpip install --upgrade pip\u001b[0m\n",
      "Note: you may need to restart the kernel to use updated packages.\n"
     ]
    }
   ],
   "source": [
    "pip install pypdf\n"
   ]
  },
  {
   "cell_type": "code",
   "execution_count": 1,
   "metadata": {},
   "outputs": [],
   "source": [
    "from langchain.prompts.example_selector import SemanticSimilarityExampleSelector\n",
    "from langchain.vectorstores import Chroma\n",
    "from langchain.embeddings import OpenAIEmbeddings\n",
    "from langchain.prompts import FewShotPromptTemplate, PromptTemplate\n",
    "import sys\n",
    "sys.path.append('/home/guillaumelewagon/code/Guillaume2126/Document-Retrieval-Chatbot')\n",
    "from Application.data_cleaning import process_pdfs_and_build_dataframe\n"
   ]
  },
  {
   "cell_type": "code",
   "execution_count": 3,
   "metadata": {},
   "outputs": [
    {
     "name": "stdout",
     "output_type": "stream",
     "text": [
      "Document 1\n",
      "Document 2\n",
      "Document 3\n",
      "Document 4\n",
      "Document 5\n",
      "Document 6\n",
      "Document 7\n",
      "Document 8\n",
      "Document 9\n",
      "Document 10\n",
      "Document 11\n",
      "Document 12\n",
      "Document 13\n",
      "Document 14\n",
      "Document 15\n",
      "Document 16\n",
      "Document 17\n",
      "Document 18\n",
      "Document 19\n",
      "Document 20\n",
      "Document 21\n",
      "Document 22\n",
      "Document 23\n",
      "Document 24\n",
      "Document 25\n",
      "Document 26\n",
      "Document 27\n",
      "Document 28\n",
      "Document 29\n",
      "Document 30\n",
      "Document 31\n",
      "Document 32\n",
      "Document 33\n",
      "Document 34\n",
      "Document 35\n",
      "Document 36\n",
      "Document 37\n",
      "Document 38\n",
      "Document 39\n",
      "Document 40\n",
      "Document 41\n",
      "Document 42\n",
      "Document 43\n",
      "Document 44\n",
      "Document 45\n",
      "Document 46\n",
      "Document 47\n",
      "Document 48\n",
      "Document 49\n",
      "Document 50\n",
      "Document 51\n",
      "Document 52\n",
      "Document 53\n",
      "Document 54\n",
      "Document 55\n",
      "Document 56\n",
      "Document 57\n",
      "Document 58\n",
      "Document 59\n",
      "Document 60\n",
      "Document 61\n",
      "Document 62\n",
      "Document 63\n",
      "Document 64\n",
      "Document 65\n",
      "Document 66\n",
      "Document 67\n",
      "Document 68\n",
      "Document 69\n",
      "Document 70\n",
      "Document 71\n",
      "Document 72\n",
      "Document 73\n",
      "Document 74\n",
      "Document 75\n",
      "Document 76\n",
      "Document 77\n",
      "Document 78\n",
      "Document 79\n",
      "Document 80\n",
      "Document 81\n",
      "Document 82\n",
      "Document 83\n",
      "Document 84\n",
      "Document 85\n",
      "Document 86\n",
      "Document 87\n",
      "Document 88\n",
      "Document 89\n",
      "Document 90\n",
      "Document 91\n",
      "Document 92\n",
      "Document 93\n",
      "Document 94\n",
      "Document 95\n",
      "Document 96\n",
      "Document 97\n",
      "Document 98\n",
      "Document 99\n",
      "Document 100\n"
     ]
    }
   ],
   "source": [
    "pdf_directory =\"/home/guillaumelewagon/code/Guillaume2126/Document-Retrieval-Chatbot/Data/Data/PDFs\"\n",
    "document_texts_0_100 = process_pdfs_and_build_dataframe(pdf_directory, 0, 100)\n"
   ]
  },
  {
   "cell_type": "code",
   "execution_count": 4,
   "metadata": {},
   "outputs": [
    {
     "data": {
      "text/html": [
       "<div>\n",
       "<style scoped>\n",
       "    .dataframe tbody tr th:only-of-type {\n",
       "        vertical-align: middle;\n",
       "    }\n",
       "\n",
       "    .dataframe tbody tr th {\n",
       "        vertical-align: top;\n",
       "    }\n",
       "\n",
       "    .dataframe thead th {\n",
       "        text-align: right;\n",
       "    }\n",
       "</style>\n",
       "<table border=\"1\" class=\"dataframe\">\n",
       "  <thead>\n",
       "    <tr style=\"text-align: right;\">\n",
       "      <th></th>\n",
       "      <th>Name of the document</th>\n",
       "      <th>Clean text</th>\n",
       "    </tr>\n",
       "  </thead>\n",
       "  <tbody>\n",
       "    <tr>\n",
       "      <th>0</th>\n",
       "      <td>ait1_sdx400v.pdf</td>\n",
       "      <td>ait drive ait tape drive sdxv user guide ct gb...</td>\n",
       "    </tr>\n",
       "    <tr>\n",
       "      <th>1</th>\n",
       "      <td>6945.pdf</td>\n",
       "      <td>wheaton college cisco phone voicemail user gui...</td>\n",
       "    </tr>\n",
       "    <tr>\n",
       "      <th>2</th>\n",
       "      <td>kgv33v10gb.pdf</td>\n",
       "      <td>downloaded wwwmanualslibcom manual search engi...</td>\n",
       "    </tr>\n",
       "    <tr>\n",
       "      <th>3</th>\n",
       "      <td>hcc2320aes.pdf</td>\n",
       "      <td>electric radiant cooktops table de cuisson lec...</td>\n",
       "    </tr>\n",
       "    <tr>\n",
       "      <th>4</th>\n",
       "      <td>professional_dtect_120.pdf</td>\n",
       "      <td>robert bosch power tool gmbh stuttgart germany...</td>\n",
       "    </tr>\n",
       "    <tr>\n",
       "      <th>...</th>\n",
       "      <td>...</td>\n",
       "      <td>...</td>\n",
       "    </tr>\n",
       "    <tr>\n",
       "      <th>95</th>\n",
       "      <td>dcp7090.pdf</td>\n",
       "      <td>confidential read manual thoroughly maintenanc...</td>\n",
       "    </tr>\n",
       "    <tr>\n",
       "      <th>96</th>\n",
       "      <td>31525031_assembly_operatong_instructions_and_p...</td>\n",
       "      <td>assembly operating part list model number mode...</td>\n",
       "    </tr>\n",
       "    <tr>\n",
       "      <th>97</th>\n",
       "      <td>m4099d.pdf</td>\n",
       "      <td>reference guide md image scanner downloaded ww...</td>\n",
       "    </tr>\n",
       "    <tr>\n",
       "      <th>98</th>\n",
       "      <td>dhp307av.pdf</td>\n",
       "      <td>downloaded wwwmanualslibcom manual search engi...</td>\n",
       "    </tr>\n",
       "    <tr>\n",
       "      <th>99</th>\n",
       "      <td>cdp_4212.pdf</td>\n",
       "      <td>bedienungsanleitunggarantie gebruiksaanwijzing...</td>\n",
       "    </tr>\n",
       "  </tbody>\n",
       "</table>\n",
       "<p>100 rows × 2 columns</p>\n",
       "</div>"
      ],
      "text/plain": [
       "                                 Name of the document  \\\n",
       "0                                    ait1_sdx400v.pdf   \n",
       "1                                            6945.pdf   \n",
       "2                                      kgv33v10gb.pdf   \n",
       "3                                      hcc2320aes.pdf   \n",
       "4                          professional_dtect_120.pdf   \n",
       "..                                                ...   \n",
       "95                                        dcp7090.pdf   \n",
       "96  31525031_assembly_operatong_instructions_and_p...   \n",
       "97                                         m4099d.pdf   \n",
       "98                                       dhp307av.pdf   \n",
       "99                                       cdp_4212.pdf   \n",
       "\n",
       "                                           Clean text  \n",
       "0   ait drive ait tape drive sdxv user guide ct gb...  \n",
       "1   wheaton college cisco phone voicemail user gui...  \n",
       "2   downloaded wwwmanualslibcom manual search engi...  \n",
       "3   electric radiant cooktops table de cuisson lec...  \n",
       "4   robert bosch power tool gmbh stuttgart germany...  \n",
       "..                                                ...  \n",
       "95  confidential read manual thoroughly maintenanc...  \n",
       "96  assembly operating part list model number mode...  \n",
       "97  reference guide md image scanner downloaded ww...  \n",
       "98  downloaded wwwmanualslibcom manual search engi...  \n",
       "99  bedienungsanleitunggarantie gebruiksaanwijzing...  \n",
       "\n",
       "[100 rows x 2 columns]"
      ]
     },
     "execution_count": 4,
     "metadata": {},
     "output_type": "execute_result"
    }
   ],
   "source": [
    "document_texts_0_100\n"
   ]
  },
  {
   "cell_type": "code",
   "execution_count": 5,
   "metadata": {},
   "outputs": [
    {
     "name": "stdout",
     "output_type": "stream",
     "text": [
      "Document 101\n",
      "Document 102\n",
      "Document 103\n",
      "Document 104\n",
      "Document 105\n",
      "Document 106\n",
      "Document 107\n",
      "Document 108\n",
      "Document 109\n",
      "Document 110\n",
      "Document 111\n",
      "Document 112\n",
      "Document 113\n",
      "Document 114\n",
      "Document 115\n",
      "Document 116\n",
      "Document 117\n",
      "Document 118\n",
      "Document 119\n",
      "Document 120\n",
      "Document 121\n",
      "Document 122\n",
      "Document 123\n",
      "Document 124\n",
      "Document 125\n",
      "Document 126\n",
      "Document 127\n",
      "Document 128\n",
      "Document 129\n",
      "Document 130\n",
      "Document 131\n",
      "Document 132\n",
      "Document 133\n",
      "Document 134\n",
      "Document 135\n",
      "Document 136\n",
      "Document 137\n",
      "Document 138\n",
      "Document 139\n",
      "Document 140\n",
      "Document 141\n",
      "Document 142\n",
      "Document 143\n",
      "Document 144\n",
      "Document 145\n",
      "Document 146\n",
      "Document 147\n",
      "Document 148\n",
      "Document 149\n",
      "Document 150\n",
      "Document 151\n",
      "Document 152\n",
      "Document 153\n",
      "Document 154\n",
      "Document 155\n",
      "Document 156\n",
      "Document 157\n",
      "Document 158\n",
      "Document 159\n",
      "Document 160\n",
      "Document 161\n",
      "Document 162\n",
      "Document 163\n",
      "Document 164\n",
      "Document 165\n",
      "Document 166\n",
      "Document 167\n",
      "Document 168\n",
      "Document 169\n",
      "Document 170\n",
      "Document 171\n",
      "Document 172\n",
      "Document 173\n",
      "Document 174\n",
      "Document 175\n",
      "Document 176\n",
      "Document 177\n",
      "Document 178\n",
      "Document 179\n",
      "Document 180\n",
      "Document 181\n",
      "Document 182\n",
      "Document 183\n",
      "Document 184\n",
      "Document 185\n",
      "Document 186\n",
      "Document 187\n",
      "Document 188\n",
      "Document 189\n",
      "Document 190\n",
      "Document 191\n",
      "Document 192\n",
      "Document 193\n",
      "Document 194\n",
      "Document 195\n",
      "Document 196\n",
      "Document 197\n",
      "Document 198\n",
      "Document 199\n",
      "Document 200\n"
     ]
    }
   ],
   "source": [
    "document_texts_100_200 = process_pdfs_and_build_dataframe(pdf_directory, 100, 200)\n"
   ]
  },
  {
   "cell_type": "code",
   "execution_count": 6,
   "metadata": {},
   "outputs": [
    {
     "name": "stdout",
     "output_type": "stream",
     "text": [
      "Document 201\n",
      "Document 202\n",
      "Document 203\n",
      "Document 204\n",
      "Document 205\n",
      "Document 206\n",
      "Document 207\n",
      "Document 208\n",
      "Document 209\n",
      "Document 210\n",
      "Document 211\n",
      "Document 212\n",
      "Document 213\n",
      "Document 214\n",
      "Document 215\n",
      "Document 216\n",
      "Document 217\n",
      "Document 218\n",
      "Document 219\n",
      "Document 220\n",
      "Document 221\n",
      "Document 222\n",
      "Document 223\n",
      "Document 224\n",
      "Document 225\n",
      "Document 226\n",
      "Document 227\n",
      "Document 228\n",
      "Document 229\n",
      "Document 230\n",
      "Document 231\n",
      "Document 232\n",
      "Document 233\n",
      "Document 234\n",
      "Document 235\n",
      "Document 236\n",
      "Document 237\n",
      "Document 238\n",
      "Document 239\n",
      "Document 240\n",
      "Document 241\n",
      "Document 242\n",
      "Document 243\n",
      "Document 244\n",
      "Document 245\n",
      "Document 246\n",
      "Document 247\n",
      "Document 248\n",
      "Document 249\n",
      "Document 250\n"
     ]
    },
    {
     "ename": "",
     "evalue": "",
     "output_type": "error",
     "traceback": [
      "\u001b[1;31mThe Kernel crashed while executing code in the the current cell or a previous cell. Please review the code in the cell(s) to identify a possible cause of the failure. Click <a href='https://aka.ms/vscodeJupyterKernelCrash'>here</a> for more info. View Jupyter <a href='command:jupyter.viewOutput'>log</a> for further details."
     ]
    }
   ],
   "source": [
    "document_texts_200_300 = process_pdfs_and_build_dataframe(pdf_directory, 200, 300)\n"
   ]
  },
  {
   "cell_type": "code",
   "execution_count": null,
   "metadata": {},
   "outputs": [],
   "source": [
    "document_texts_300_400 = process_pdfs_and_build_dataframe(pdf_directory, 300, 400)\n"
   ]
  },
  {
   "cell_type": "code",
   "execution_count": null,
   "metadata": {},
   "outputs": [],
   "source": [
    "document_texts_400_500 = process_pdfs_and_build_dataframe(pdf_directory, 400, 500)\n"
   ]
  },
  {
   "cell_type": "code",
   "execution_count": null,
   "metadata": {},
   "outputs": [],
   "source": [
    "document_texts_500_600 = process_pdfs_and_build_dataframe(pdf_directory, 500, 600)\n"
   ]
  },
  {
   "cell_type": "code",
   "execution_count": null,
   "metadata": {},
   "outputs": [],
   "source": [
    "document_texts_600_700 = process_pdfs_and_build_dataframe(pdf_directory, 600, 700)\n"
   ]
  },
  {
   "cell_type": "code",
   "execution_count": null,
   "metadata": {},
   "outputs": [],
   "source": [
    "document_texts_700_800 = process_pdfs_and_build_dataframe(pdf_directory, 700, 800)\n"
   ]
  },
  {
   "cell_type": "code",
   "execution_count": null,
   "metadata": {},
   "outputs": [],
   "source": [
    "document_texts_800_900 = process_pdfs_and_build_dataframe(pdf_directory, 800, 900)\n"
   ]
  },
  {
   "cell_type": "code",
   "execution_count": null,
   "metadata": {},
   "outputs": [],
   "source": [
    "document_texts_900_1000 = process_pdfs_and_build_dataframe(pdf_directory, 900, 1000)\n"
   ]
  },
  {
   "cell_type": "code",
   "execution_count": null,
   "metadata": {},
   "outputs": [],
   "source": []
  }
 ],
 "metadata": {
  "kernelspec": {
   "display_name": "lewagon",
   "language": "python",
   "name": "python3"
  },
  "language_info": {
   "codemirror_mode": {
    "name": "ipython",
    "version": 3
   },
   "file_extension": ".py",
   "mimetype": "text/x-python",
   "name": "python",
   "nbconvert_exporter": "python",
   "pygments_lexer": "ipython3",
   "version": "3.10.6"
  }
 },
 "nbformat": 4,
 "nbformat_minor": 2
}
