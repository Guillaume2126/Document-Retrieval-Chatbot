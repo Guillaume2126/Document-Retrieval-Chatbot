{
 "cells": [
  {
   "cell_type": "code",
   "execution_count": null,
   "metadata": {},
   "outputs": [],
   "source": [
    "pip install --upgrade PyPDF2\n"
   ]
  },
  {
   "cell_type": "code",
   "execution_count": 1,
   "metadata": {},
   "outputs": [],
   "source": [
    "from nltk.corpus import stopwords\n",
    "from nltk.stem import WordNetLemmatizer\n",
    "from nltk.tokenize import word_tokenize\n",
    "import string\n",
    "import re\n",
    "import PyPDF2\n",
    "import os\n"
   ]
  },
  {
   "cell_type": "code",
   "execution_count": 2,
   "metadata": {},
   "outputs": [],
   "source": [
    "def cleaning(sentence):\n",
    "    # Basic cleaning\n",
    "    sentence = re.sub(r'<.*?>', '', sentence)\n",
    "    sentence = re.sub(r'[^a-zA-Z\\s]', '', sentence)  # Remove numbers and characters\n",
    "    sentence = sentence.strip()  # Remove whitespaces\n",
    "    sentence = sentence.lower()  # Lowercase\n",
    "\n",
    "    # Advanced cleaning\n",
    "    for punctuation in string.punctuation:\n",
    "        sentence = sentence.replace(punctuation, '')  # Remove punctuation\n",
    "\n",
    "    tokenized_sentence = word_tokenize(sentence)  # Tokenize\n",
    "    stop_words = set(stopwords.words('english'))  # Define stopwords\n",
    "\n",
    "    tokenized_sentence_cleaned = [w for w in tokenized_sentence if w not in stop_words]\n",
    "\n",
    "    lemmatized = [WordNetLemmatizer().lemmatize(word) for word in tokenized_sentence_cleaned]\n",
    "\n",
    "    cleaned_sentence = ' '.join(word for word in lemmatized)\n",
    "    cleaned_sentence = re.sub(r'\\s+', ' ', cleaned_sentence)  # Remove multiple spaces\n",
    "\n",
    "    return cleaned_sentence\n"
   ]
  },
  {
   "cell_type": "code",
   "execution_count": 3,
   "metadata": {},
   "outputs": [],
   "source": [
    "def extract_text_from_pdf(pdf_path):\n",
    "    with open(pdf_path, 'rb') as file:\n",
    "        pdf_reader = PyPDF2.PdfReader(file)\n",
    "        text = \"\"\n",
    "        for page_number in range(len(pdf_reader.pages)):\n",
    "            text += pdf_reader.pages[page_number].extract_text()\n",
    "    return text\n"
   ]
  },
  {
   "cell_type": "code",
   "execution_count": 5,
   "metadata": {},
   "outputs": [
    {
     "data": {
      "text/plain": [
       "'wheaton college cisco phone voicemail user guide revised page phone feature handset light strip speakerphone button phone display keypad programmable feature button mute button softkey button volume button transfer button message button conference button application button hold button contact button navigation bar select button handset headset button downloaded wwwmanualslibcom manual search engine wheaton college cisco phone voicemail user guide revised page general thing know front dial campus simply dial area code number emergency dial reach public safety reach dupage public safety communication du comm important accidently dial hang simply wait line answer inform tha misdialed hang try call back confirm emergency dont answer send police officer investigate put someone hold hear music important thing remember h ere conference call press hold button everyone else conference call hear hold music interfering conversation information information p lease refer telephone suppo rt web page httpwwwwheatoneduacademicsservicescomputing servicesemployeestelephone support help sheet provided explain voicem ail speed dialing conference calling edit phone menu tree set wireless headset etc basic place call simply lift handset dial press speakerphone button dial press new call softkey bottom screen dial dial number first press call softkey speakerphone button dial number first lift handset answer call simply lif handset press speakerphone button press answer softkey bottom left screen place call hold press hold button resume call tap flashing green line button downloaded wwwmanualslibcom manual search engine wheaton college cisco phone voicemail user guide revised page ransfer call press transfer button phone dial number transfer th en press transfer button release call wait line someone answer call go voicemail press swap softkey move two call press transfer button release call cancel call transfer answered press cancel softkey resume softkey reconnect original caller answered press end call softkey resume softkey reconnect original caller transfer call directly voicemail press transfer button press starasterisk button key person extension press transfer button complete transfer create conference c conferencing limit sixteen phone however group call four participant recommend using meet style conference call please see traditional conference calling call first person desk phone press conference button put ori ginal person hold meanwhile create new dial tone dial next number would like conference press conference button take original person hold join three party together repeat pr ocess add additional party meet conference calling please refer instruction new stuff section page forward call limited campus local number press fwd softkey bottom screen enter desired number downloaded wwwmanualslibcom manual search engine wheaton college cisco phone voicemail user guide revised page end n incoming call voicemail phone ringing press divert softkey base creen forward call straight voicemail press fwd softkey bottom screen press message button cancel call forwarding press fwd softkey bottom screen new stuff call back call back feature allows receive call back notification phone called party line becomes available called party must also cisco phone system calling another party whether ringing sent voicemail press call back softkey bottom screen select exit softkey activate call back request next time called party hang phone either call currently next call make notified phone available point option call using dial softkey bottom screen cancel call back request call park call park feature allows place call hold retrieved another phone retrieving phone must also cisco phone system active call phone park call call park extension pressing park button bottom screen someone another phone system dial call park extension retrieve call call press park softkey note park number displayed screen notify party call give park number party simply pick phone dial park number connect thing keep mind park number display r screen second parked call retrieved second originating phone ring remind parker user still hold reminder continue every second thereafter call retrieved call retrieved minute call returned parker downloaded wwwmanualslibcom manual search engine wheaton college cisco phone voicemail user guide revised page call pickup call pickup feature allows answer incoming call within group different group different method pick call de pending group assignment permission given group membership association permission set system administrator upon request pickup feature allows directly pick call within group pressing pickup button phone group pickup feature allows directly pick call within associated group pressing opickup button phone group pickup feature allows pick call within unassociated group pressing gpickup button keying digit group number directed call pickup feature allows pick call specific line within group pressing gpickup button keying digit extension number divert divert feature allows send call voicemail immediately rather waiting normal ring call come simply press divert softkey bottom sc reen applies single call meet conference calling meet conference call participant agree meet set time calling special group line helpful conference call many participant obtain reserve meet extension must contact either joy oreagan x dan taylor x least one day advance keep mind participant end paying call however hope set toll free option future notify participant meet extension call confuse meet extension regular phone number phone used call meet extension n umber like xxxx offcampus participant dial full number oncampus dial four digit extension begin meet call lift phone receiver follow direction press softkey appear base phone screen press second time select meet softkey appear enter digit meet extension given service conference call begin immediatel participant begin dialing join conference end hang conference participant hear slight beep whenever someone join hang privacy option available meet call aware theoretically anyone number could dial conversation downloaded wwwmanualslibcom manual search engine wheaton college cisco phone voicemail user guide revised page missed call feature display list call missed regardless whether left message number appear within parenthesis right line number indicating number missed call view missed call press application button select call history toggle missed call call u sing softkey bottom screen call number list simply use navigation pad scroll desired number lift handset press speakerphone button place call user option web page used set speed dial list personal address book access go httpphonewheatonedu log using network user id password speed dialing number u pdated via user option web page user option device speed dial c different number u seful frequently called number u sed dialing assigned abbreviated dial n umber phone keypad pressing speed dial softkey dial phone application phone application accessed pressing application button phone button located upper left corner main keypad area look like round sprocket gear different application selected using blue navigation pad call history allows view history inbound call missed call outbound call preference ringtones select different ringtones line contrast adjust contrast phone display phone information display phone network configuration information downloaded wwwmanualslibcom manual search engine wheaton college cisco phone voicemail user guide revised page voicemail thing know front message indicator phone lit red light top handset n envelope icon appearing screen phone first time connect message inbox prompted enter pin followed sign initial pin following asked enroll system cludes changing pin recording name campus message access number hear greeting press star key enter id phone extension pin access mailbox mu ltiple greeting standard greeting greeting play time unless one following greeting enabled alternate greeting enabled greeting override greeting typically used extended absence notice like va cation busy greeting enabled greeting play line instance primary extension busy closed greeting enabled greeting play none business hour business hour predefined monday friday pm internal greeting enabled greeting play call received co worker cisco phone system outside call still hear standard greeting please note recording greeting automatically enable use elephone keypad voice command navigate menu available documentation please refer telephone support web page httpwwwwheatoneduacademicsservicescomputing servicesemployeestelephone support relevant documentation basic change greeting log account p ressing message button phone select setup option option change greeting option check message log account pressing message button phone select option downloaded wwwmanualslibcom manual search engine wheaton college cisco phone voicemail user guide revised page listening message listening message press following key change th e message played press slow message press speed message press pause message press rewind message second press fast forward message second press skip message press save skip message send message work well sending message multiple recipient log account pressing message button phone select option record message press continue addressing option forward message another mailbox wait message finish playing select option record introduction desired followed pound key enter recipient extension number followed pound key confirm recipient name pressing pound key press pound key one time send message downloaded wwwmanualslibcom manual search engine wheaton college cisco phone voicemail user guide revised page new stuff please note feature listed optional required basic voicemail operation cisco personal communication assistant web tool accessed goin g httpvoicemailwheatonedu log using network user id password unity connection messaging assistant preference phone menu general behavioral option including keypadvoice command input preference message playback preference transfer screening applicable time password change password remember password web tool access password change pin remember pin phone access greeting view greeting record manage various greeting mentioned notification device notified via email telephone new voicemail message arrive contact private list recommend using cupcjabber client create contact unity connection web inbo x listen existing message inbox via phone computer create new message using phone computer delete message downloaded wwwmanualslibcom manual search engine'"
      ]
     },
     "execution_count": 5,
     "metadata": {},
     "output_type": "execute_result"
    }
   ],
   "source": [
    "pdf_directory =\"../Data/Data/PDFs\"\n",
    "extracted_files = os.listdir(pdf_directory)\n",
    "\n",
    "example_file_path = os.path.join(pdf_directory, extracted_files[1])\n",
    "text_content = extract_text_from_pdf(example_file_path)\n",
    "\n",
    "text_clean = cleaning(text_content)\n",
    "text_clean\n"
   ]
  },
  {
   "cell_type": "code",
   "execution_count": null,
   "metadata": {},
   "outputs": [],
   "source": []
  },
  {
   "cell_type": "code",
   "execution_count": null,
   "metadata": {},
   "outputs": [],
   "source": []
  },
  {
   "cell_type": "code",
   "execution_count": null,
   "metadata": {},
   "outputs": [],
   "source": []
  },
  {
   "cell_type": "code",
   "execution_count": null,
   "metadata": {},
   "outputs": [],
   "source": []
  }
 ],
 "metadata": {
  "kernelspec": {
   "display_name": "lewagon",
   "language": "python",
   "name": "python3"
  },
  "language_info": {
   "codemirror_mode": {
    "name": "ipython",
    "version": 3
   },
   "file_extension": ".py",
   "mimetype": "text/x-python",
   "name": "python",
   "nbconvert_exporter": "python",
   "pygments_lexer": "ipython3",
   "version": "3.10.6"
  }
 },
 "nbformat": 4,
 "nbformat_minor": 2
}
