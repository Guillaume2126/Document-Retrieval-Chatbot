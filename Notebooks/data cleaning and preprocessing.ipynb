{
 "cells": [
  {
   "cell_type": "code",
   "execution_count": null,
   "metadata": {},
   "outputs": [],
   "source": [
    "from nltk.corpus import stopwords\n",
    "from nltk.stem import WordNetLemmatizer\n",
    "import string\n"
   ]
  },
  {
   "cell_type": "code",
   "execution_count": null,
   "metadata": {},
   "outputs": [],
   "source": [
    "def cleaning(sentence):\n",
    "    # Basic cleaning\n",
    "    sentence = re.sub(r'<.*?>', '', sentence)\n",
    "    sentence = re.sub(r'[^a-zA-Z\\s]', '', sentence)  # Remove numbers and characters\n",
    "    sentence = sentence.strip()  # Remove whitespaces\n",
    "    sentence = sentence.lower()  # Lowercase\n",
    "\n",
    "    # Advanced cleaning\n",
    "    for punctuation in string.punctuation:\n",
    "        sentence = sentence.replace(punctuation, '')  # Remove punctuation\n",
    "\n",
    "    tokenized_sentence = word_tokenize(sentence)  # Tokenize\n",
    "    stop_words = set(stopwords.words('english'))  # Define stopwords\n",
    "\n",
    "    tokenized_sentence_cleaned = [w for w in tokenized_sentence if w not in stop_words]\n",
    "\n",
    "    lemmatized = [WordNetLemmatizer().lemmatize(word) for word in tokenized_sentence_cleaned]\n",
    "\n",
    "    cleaned_sentence = ' '.join(word for word in lemmatized)\n",
    "    cleaned_sentence = re.sub(r'\\s+', ' ', cleaned_sentence)  # Remove multiple spaces\n",
    "\n",
    "    return cleaned_sentence\n"
   ]
  }
 ],
 "metadata": {
  "kernelspec": {
   "display_name": "lewagon",
   "language": "python",
   "name": "python3"
  },
  "language_info": {
   "name": "python",
   "version": "3.10.6"
  }
 },
 "nbformat": 4,
 "nbformat_minor": 2
}
